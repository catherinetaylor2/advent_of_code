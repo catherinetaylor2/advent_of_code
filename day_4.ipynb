{
 "cells": [
  {
   "cell_type": "code",
   "execution_count": 71,
   "id": "e509fc6e",
   "metadata": {},
   "outputs": [],
   "source": [
    "def get_min_and_max(section):\n",
    "    numbers = section.split('-')\n",
    "    min_no = numbers[0]\n",
    "    max_no = numbers[1]\n",
    "    return int(min_no), int(max_no)\n",
    "\n",
    "def compare_bounds_single_direction(bound_1, bound_2):\n",
    "    if bound_1[0] >= bound_2[0]  and bound_1[0] <= bound_2[1] and bound_1[1] <= bound_2[1] :\n",
    "        return True\n",
    "    return False\n",
    "\n",
    "\n",
    "def compare_bounds(bound_1, bound_2):\n",
    "    if compare_bounds_single_direction(bound_1, bound_2):\n",
    "        return True\n",
    "    if compare_bounds_single_direction(bound_2, bound_1):\n",
    "        return True\n",
    "    return False\n",
    "\n",
    "def any_overlap_single_dir(bound_1, bound_2):\n",
    "    if (bound_1[0] >= bound_2[0] and bound_1[0] <= bound_2[1]) or (bound_1[1] >= bound_2[0] and bound_1[1] <= bound_2[1]):\n",
    "        return True\n",
    "    return False\n",
    "    \n",
    "    \n",
    "def compare_bounds_any_overlap(bound_1, bound_2):\n",
    "    if any_overlap_single_dir(bound_1, bound_2):\n",
    "        return True\n",
    "    if any_overlap_single_dir(bound_2, bound_1):\n",
    "        return True\n",
    "    return False"
   ]
  },
  {
   "cell_type": "code",
   "execution_count": 72,
   "id": "c611de3d",
   "metadata": {
    "scrolled": false
   },
   "outputs": [
    {
     "name": "stdout",
     "output_type": "stream",
     "text": [
      "Number of overlaps: 542\n"
     ]
    }
   ],
   "source": [
    "f = open(\"inputs/day_4.txt\", \"r\")\n",
    "no_intersects = 0\n",
    "for line in f:\n",
    "    sections = line.split(',')\n",
    "    bounds_1 = get_min_and_max(sections[0])\n",
    "    bounds_2 = get_min_and_max(sections[1])\n",
    "    if compare_bounds(bounds_1, bounds_2):\n",
    "        no_intersects +=1\n",
    "\n",
    "print(f'Number of overlaps: {no_intersects}')"
   ]
  },
  {
   "cell_type": "code",
   "execution_count": 74,
   "id": "77eaa0d1",
   "metadata": {},
   "outputs": [
    {
     "name": "stdout",
     "output_type": "stream",
     "text": [
      "Number of overlaps: 900\n"
     ]
    }
   ],
   "source": [
    "f = open(\"inputs/day_4.txt\", \"r\")\n",
    "no_intersects = 0\n",
    "for line in f:\n",
    "    sections = line.split(',')\n",
    "    bounds_1 = get_min_and_max(sections[0])\n",
    "    bounds_2 = get_min_and_max(sections[1])\n",
    "    if compare_bounds_any_overlap(bounds_1, bounds_2):\n",
    "        no_intersects +=1\n",
    "\n",
    "print(f'Number of overlaps: {no_intersects}')"
   ]
  },
  {
   "cell_type": "code",
   "execution_count": null,
   "id": "38b1bda4",
   "metadata": {},
   "outputs": [],
   "source": []
  }
 ],
 "metadata": {
  "kernelspec": {
   "display_name": "Python 3 (ipykernel)",
   "language": "python",
   "name": "python3"
  },
  "language_info": {
   "codemirror_mode": {
    "name": "ipython",
    "version": 3
   },
   "file_extension": ".py",
   "mimetype": "text/x-python",
   "name": "python",
   "nbconvert_exporter": "python",
   "pygments_lexer": "ipython3",
   "version": "3.7.15"
  }
 },
 "nbformat": 4,
 "nbformat_minor": 5
}
