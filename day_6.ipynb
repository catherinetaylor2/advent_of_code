{
 "cells": [
  {
   "cell_type": "code",
   "execution_count": 4,
   "id": "b8bf57bd",
   "metadata": {},
   "outputs": [],
   "source": [
    "import numpy as np"
   ]
  },
  {
   "cell_type": "code",
   "execution_count": 19,
   "id": "0858f1a0",
   "metadata": {},
   "outputs": [
    {
     "name": "stdout",
     "output_type": "stream",
     "text": [
      "marker after: 1300\n"
     ]
    }
   ],
   "source": [
    "f = open(\"inputs/day_6.txt\", \"r\")\n",
    "\n",
    "\n",
    "for line in f:\n",
    "    current_4 = []\n",
    "    for idx, l in enumerate(line):\n",
    "        if len(current_4) < 4:\n",
    "            current_4.append(l)\n",
    "        \n",
    "        if len(current_4) == 4:\n",
    "            if len(np.unique(current_4)) == 4:\n",
    "                print(f'marker after: {idx + 1}')\n",
    "                break\n",
    "            current_4 = current_4[1:]\n",
    "            \n",
    "#     break\n",
    "    \n",
    "# print(current_4)"
   ]
  },
  {
   "cell_type": "code",
   "execution_count": null,
   "id": "730152cd",
   "metadata": {},
   "outputs": [],
   "source": []
  }
 ],
 "metadata": {
  "kernelspec": {
   "display_name": "Python 3 (ipykernel)",
   "language": "python",
   "name": "python3"
  },
  "language_info": {
   "codemirror_mode": {
    "name": "ipython",
    "version": 3
   },
   "file_extension": ".py",
   "mimetype": "text/x-python",
   "name": "python",
   "nbconvert_exporter": "python",
   "pygments_lexer": "ipython3",
   "version": "3.7.15"
  }
 },
 "nbformat": 4,
 "nbformat_minor": 5
}
