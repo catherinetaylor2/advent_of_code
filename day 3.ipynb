{
 "cells": [
  {
   "cell_type": "code",
   "execution_count": 9,
   "id": "ded6d4f7",
   "metadata": {},
   "outputs": [],
   "source": [
    "import numpy as np"
   ]
  },
  {
   "cell_type": "code",
   "execution_count": 33,
   "id": "cd40291c",
   "metadata": {},
   "outputs": [],
   "source": [
    "def letter_to_number(letter):\n",
    "    if letter.islower():\n",
    "        return ord(letter) - 96\n",
    "    \n",
    "    else:\n",
    "        return ord(letter.lower()) - 70"
   ]
  },
  {
   "cell_type": "code",
   "execution_count": 32,
   "id": "7ec99c23",
   "metadata": {},
   "outputs": [
    {
     "name": "stdout",
     "output_type": "stream",
     "text": [
      "Total sum: 7821\n"
     ]
    }
   ],
   "source": [
    "# Part 1\n",
    "\n",
    "f = open(\"inputs/day_3.txt\", \"r\")\n",
    "\n",
    "total_priority_sum = 0\n",
    "\n",
    "for line in f:\n",
    "    number_items_per_pack = int((len(line) - 1) / 2)\n",
    "    \n",
    "    compartment_1 = list(line[0: number_items_per_pack])\n",
    "    compartment_2 = list(line[number_items_per_pack: -1])\n",
    "    \n",
    "    common_items = np.intersect1d(compartment_1,compartment_2)\n",
    "    \n",
    "    per_elf_sum = 0\n",
    "    for item in common_items:\n",
    "        per_elf_sum += letter_to_number(item)\n",
    "        \n",
    "    total_priority_sum += per_elf_sum\n",
    "#     print(f'Per elf: {per_elf_sum}')\n",
    "    \n",
    "print(f'Total sum: {total_priority_sum}')"
   ]
  },
  {
   "cell_type": "code",
   "execution_count": 75,
   "id": "5729be66",
   "metadata": {},
   "outputs": [
    {
     "name": "stdout",
     "output_type": "stream",
     "text": [
      "Total sum: 2752\n"
     ]
    }
   ],
   "source": [
    "# Part 2\n",
    "\n",
    "f = open(\"inputs/day_3.txt\", \"r\")\n",
    "\n",
    "total_priority_sum = 0\n",
    "\n",
    "group = []\n",
    "\n",
    "for idx, line in enumerate(f):\n",
    "    if len(group) == 3:\n",
    "        intersection = get_intersection(group)\n",
    "        for letter in intersection:\n",
    "            total_priority_sum += letter_to_number(letter)\n",
    "        group = []\n",
    "    group.append(list(line))\n",
    "\n",
    "intersection = get_intersection(group)\n",
    "for letter in intersection:\n",
    "    total_priority_sum += letter_to_number(letter)\n",
    "\n",
    "print(f'Total sum: {total_priority_sum}')"
   ]
  },
  {
   "cell_type": "code",
   "execution_count": 70,
   "id": "33a10671",
   "metadata": {},
   "outputs": [],
   "source": [
    "def get_intersection(group):\n",
    "    assert len(group) == 3\n",
    "    intersection = np.intersect1d(group[0], group[1])\n",
    "    intersection = np.intersect1d(intersection, group[2])\n",
    "    if '\\n' in intersection:\n",
    "        intersection = np.delete(intersection, np.where(intersection == '\\n'))\n",
    "    return intersection\n",
    "\n"
   ]
  },
  {
   "cell_type": "code",
   "execution_count": null,
   "id": "4c68fbbb",
   "metadata": {},
   "outputs": [],
   "source": []
  }
 ],
 "metadata": {
  "kernelspec": {
   "display_name": "Python 3 (ipykernel)",
   "language": "python",
   "name": "python3"
  },
  "language_info": {
   "codemirror_mode": {
    "name": "ipython",
    "version": 3
   },
   "file_extension": ".py",
   "mimetype": "text/x-python",
   "name": "python",
   "nbconvert_exporter": "python",
   "pygments_lexer": "ipython3",
   "version": "3.7.15"
  }
 },
 "nbformat": 4,
 "nbformat_minor": 5
}
