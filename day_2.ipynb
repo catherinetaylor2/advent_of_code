{
 "cells": [
  {
   "cell_type": "code",
   "execution_count": 4,
   "id": "04f26a48",
   "metadata": {},
   "outputs": [],
   "source": [
    "import numpy as np"
   ]
  },
  {
   "cell_type": "code",
   "execution_count": 55,
   "id": "a26552fd",
   "metadata": {},
   "outputs": [],
   "source": [
    "def return_move_to_win(move):\n",
    "    if move == 'rock':\n",
    "        return 'paper'\n",
    "    if move == 'paper':\n",
    "        return 'scissors'\n",
    "    return 'rock'\n",
    "\n",
    "def return_move_to_lose(move):\n",
    "    if move == 'rock':\n",
    "        return 'scissors'\n",
    "    if move == 'paper':\n",
    "        return 'rock'\n",
    "    return 'paper'"
   ]
  },
  {
   "cell_type": "code",
   "execution_count": 57,
   "id": "e6d03d16",
   "metadata": {},
   "outputs": [
    {
     "name": "stdout",
     "output_type": "stream",
     "text": [
      "Total score: 17189\n"
     ]
    }
   ],
   "source": [
    "# Part 1\n",
    "\n",
    "opponent_dict = {'A': 'rock', 'B': 'paper', 'C': 'scissors'}\n",
    "player_dict = {'X': 'rock', 'Y': 'paper', 'Z': 'scissors'}\n",
    "score_dict = {'rock': 1, 'paper': 2, 'scissors': 3}\n",
    "\n",
    "\n",
    "def player_score(opponent, player):\n",
    "    score = score_dict[player]\n",
    "    \n",
    "    if player == opponent:\n",
    "        return score + 3\n",
    "    \n",
    "    if return_move_to_win(opponent) == player:\n",
    "        return score + 6\n",
    "        \n",
    "    return score\n",
    "\n",
    "f = open(\"inputs/day_2.txt\", \"r\")\n",
    "\n",
    "total_score = 0\n",
    "for line in f:\n",
    "    move = line.split(\" \")\n",
    "    opponent_move = opponent_dict[move[0]]\n",
    "    player_move = player_dict[move[-1][0]]\n",
    "    move_score = player_score(opponent_move, player_move)\n",
    "    total_score += move_score\n",
    "    \n",
    "print(f'Total score: {total_score}')"
   ]
  },
  {
   "cell_type": "code",
   "execution_count": 56,
   "id": "3b67a3b8",
   "metadata": {},
   "outputs": [
    {
     "name": "stdout",
     "output_type": "stream",
     "text": [
      "Total score: 13490\n"
     ]
    }
   ],
   "source": [
    "# Part 2\n",
    "\n",
    "player_result_dict = {'X': 'lose', 'Y': 'draw', 'Z': 'win'}\n",
    "\n",
    "\n",
    "def player_score_from_result(opponent, player_result):\n",
    "    if player_result == 'draw':\n",
    "        return score_dict[opponent] + 3\n",
    "    \n",
    "    if player_result == 'win':\n",
    "        return 6 + score_dict[return_move_to_win(opponent)]\n",
    "    \n",
    "    if player_result == 'lose':    \n",
    "        return score_dict[return_move_to_lose(opponent)]\n",
    "    \n",
    "f = open(\"inputs/day_2.txt\", \"r\")\n",
    "\n",
    "total_score = 0\n",
    "for line in f:\n",
    "    move = line.split(\" \")\n",
    "    opponent_move = opponent_dict[move[0]]\n",
    "    player_result = player_result_dict[move[-1][0]]\n",
    "    move_score = player_score_from_result(opponent_move, player_result)\n",
    "    total_score += move_score\n",
    "    \n",
    "print(f'Total score: {total_score}')"
   ]
  }
 ],
 "metadata": {
  "kernelspec": {
   "display_name": "Python 3 (ipykernel)",
   "language": "python",
   "name": "python3"
  },
  "language_info": {
   "codemirror_mode": {
    "name": "ipython",
    "version": 3
   },
   "file_extension": ".py",
   "mimetype": "text/x-python",
   "name": "python",
   "nbconvert_exporter": "python",
   "pygments_lexer": "ipython3",
   "version": "3.7.15"
  }
 },
 "nbformat": 4,
 "nbformat_minor": 5
}
