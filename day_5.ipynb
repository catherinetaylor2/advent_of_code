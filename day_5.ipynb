{
 "cells": [
  {
   "cell_type": "code",
   "execution_count": 2,
   "id": "7db273f1",
   "metadata": {},
   "outputs": [],
   "source": [
    "import re\n",
    "import numpy as np"
   ]
  },
  {
   "cell_type": "code",
   "execution_count": 84,
   "id": "c23bb87e",
   "metadata": {},
   "outputs": [
    {
     "name": "stdout",
     "output_type": "stream",
     "text": [
      "['D']\n",
      "{0: ['Z', 'N', 'D'], 1: ['M', 'C'], 2: ['P']}\n",
      "['Z', 'N', 'D']\n",
      "{0: [], 1: ['M', 'C'], 2: ['P', 'Z', 'N', 'D']}\n",
      "['M', 'C']\n",
      "{0: ['M', 'C'], 1: [], 2: ['P', 'Z', 'N', 'D']}\n",
      "['C']\n",
      "{0: ['M'], 1: ['C'], 2: ['P', 'Z', 'N', 'D']}\n"
     ]
    }
   ],
   "source": [
    "mover = \"9001\"\n",
    "\n",
    "f = open(\"tests/day_5.txt\", \"r\")\n",
    "\n",
    "original_crate = {}\n",
    "for idx, line in enumerate(f):\n",
    "    line_array = list(line)\n",
    "    while ' ' in line_array:\n",
    "        line_array.remove(' ')\n",
    "        \n",
    "    if line_array[0] == '1':\n",
    "        break\n",
    "        \n",
    "    letters = []\n",
    "    if idx == 0:\n",
    "        length_lines = len(line)\n",
    "        number_crates = int(length_lines / 4)\n",
    "        for c in range(number_crates):\n",
    "            original_crate[c] = []\n",
    "    crates = re.findall('\\[.\\]', line)\n",
    "    for c in crates:\n",
    "        letter = c[1:-1]\n",
    "        letters.append(letter)\n",
    "        line_pos = line.find(letter)\n",
    "        line = line.replace(letter, \" \", 1)\n",
    "        spot = int((line_pos - 1) / 4)\n",
    "\n",
    "# \n",
    "        original_crate[spot].append(letter)\n",
    "\n",
    "for k in original_crate:\n",
    "    original_crate[k] = original_crate[k][::-1]\n",
    " \n",
    "if mover == \"9000\":\n",
    "    for line in f:\n",
    "        if (line[0] != \"m\"):\n",
    "            continue\n",
    "        action = line.split(\" \")\n",
    "        number = int(action[1])\n",
    "        from_crate = int(action[3])\n",
    "        to_crate = int(action[5])\n",
    "\n",
    "        for i in range(number):\n",
    "            moving_crate = original_crate[from_crate - 1][-1]\n",
    "            original_crate[to_crate - 1].append(*moving_crate)\n",
    "\n",
    "            original_crate[from_crate - 1] = original_crate[from_crate - 1][:-1]\n",
    "            \n",
    "else:\n",
    "    for line in f:\n",
    "        if (line[0] != \"m\"):\n",
    "            continue\n",
    "        action = line.split(\" \")\n",
    "        number = int(action[1])\n",
    "        from_crate = int(action[3])\n",
    "        to_crate = int(action[5])\n",
    "\n",
    "        moving_crate= original_crate[from_crate - 1][-1*number:]\n",
    "        print(moving_crate)\n",
    "        \n",
    "        for c in moving_crate:\n",
    "            original_crate[to_crate - 1].append(c)\n",
    "\n",
    "        original_crate[from_crate - 1] = original_crate[from_crate - 1][:-1*number]\n",
    "        \n",
    "#         print(original_crate)\n",
    "        \n",
    "#         break\n",
    "\n",
    "# top = \"\"\n",
    "# for key in original_crate:\n",
    "#     top += original_crate[key][-1]\n",
    "    \n",
    "# print(top)"
   ]
  },
  {
   "cell_type": "code",
   "execution_count": 46,
   "id": "4cbca8fe",
   "metadata": {},
   "outputs": [
    {
     "name": "stdout",
     "output_type": "stream",
     "text": [
      "move 1 from 2 to 1\n",
      "\n"
     ]
    }
   ],
   "source": []
  },
  {
   "cell_type": "code",
   "execution_count": null,
   "id": "e73fabb4",
   "metadata": {},
   "outputs": [],
   "source": []
  }
 ],
 "metadata": {
  "kernelspec": {
   "display_name": "Python 3 (ipykernel)",
   "language": "python",
   "name": "python3"
  },
  "language_info": {
   "codemirror_mode": {
    "name": "ipython",
    "version": 3
   },
   "file_extension": ".py",
   "mimetype": "text/x-python",
   "name": "python",
   "nbconvert_exporter": "python",
   "pygments_lexer": "ipython3",
   "version": "3.7.15"
  }
 },
 "nbformat": 4,
 "nbformat_minor": 5
}
