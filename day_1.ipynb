{
 "cells": [
  {
   "cell_type": "code",
   "execution_count": 5,
   "id": "0c59e701",
   "metadata": {},
   "outputs": [],
   "source": [
    "import numpy as np"
   ]
  },
  {
   "cell_type": "code",
   "execution_count": 22,
   "id": "6710cc98",
   "metadata": {},
   "outputs": [
    {
     "name": "stdout",
     "output_type": "stream",
     "text": [
      "205615\n"
     ]
    }
   ],
   "source": [
    "f = open(\"inputs/day_1.txt\", \"r\")\n",
    "\n",
    "elf_calories = [0]\n",
    "\n",
    "idx = 0\n",
    "for x in f:\n",
    "    if x == '\\n':\n",
    "        idx += 1\n",
    "        elf_calories.append(0)\n",
    "    else:\n",
    "        elf_calories[idx] += int(x)\n",
    "        \n",
    "elf_calories_sorted = np.sort(elf_calories)\n",
    "\n",
    "max_calories = elf_calories_sorted[-1]\n",
    "\n",
    "print(np.sum(elf_calories_sorted[-3:]))"
   ]
  }
 ],
 "metadata": {
  "kernelspec": {
   "display_name": "Python 3 (ipykernel)",
   "language": "python",
   "name": "python3"
  },
  "language_info": {
   "codemirror_mode": {
    "name": "ipython",
    "version": 3
   },
   "file_extension": ".py",
   "mimetype": "text/x-python",
   "name": "python",
   "nbconvert_exporter": "python",
   "pygments_lexer": "ipython3",
   "version": "3.7.15"
  }
 },
 "nbformat": 4,
 "nbformat_minor": 5
}
