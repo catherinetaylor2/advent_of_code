{
 "cells": [
  {
   "cell_type": "code",
   "execution_count": 5,
   "id": "fd065439",
   "metadata": {},
   "outputs": [],
   "source": [
    "import numpy as np"
   ]
  },
  {
   "cell_type": "code",
   "execution_count": 19,
   "id": "480a525d",
   "metadata": {},
   "outputs": [
    {
     "name": "stdout",
     "output_type": "stream",
     "text": [
      "24000\n"
     ]
    }
   ],
   "source": [
    "f = open(\"tests/day_1.txt\", \"r\")\n",
    "\n",
    "elf_calories = [0]\n",
    "\n",
    "idx = 0\n",
    "for x in f:\n",
    "    if x == '\\n':\n",
    "        idx += 1\n",
    "        elf_calories.append(0)\n",
    "    else:\n",
    "        elf_calories[idx] += int(x)\n",
    "        \n",
    "elf_calories_sorted = np.sort(elf_calories)\n",
    "\n",
    "max_calories = elf_calories_sorted[-1]\n",
    "\n",
    "print(max_calories)"
   ]
  },
  {
   "cell_type": "code",
   "execution_count": 18,
   "id": "c53de26c",
   "metadata": {},
   "outputs": [
    {
     "data": {
      "text/plain": [
       "array([ 4000,  6000, 10000, 11000, 24000])"
      ]
     },
     "execution_count": 18,
     "metadata": {},
     "output_type": "execute_result"
    }
   ],
   "source": [
    "elf_calories_sorted"
   ]
  },
  {
   "cell_type": "code",
   "execution_count": null,
   "id": "f27c4f66",
   "metadata": {},
   "outputs": [],
   "source": []
  }
 ],
 "metadata": {
  "kernelspec": {
   "display_name": "Python 3 (ipykernel)",
   "language": "python",
   "name": "python3"
  },
  "language_info": {
   "codemirror_mode": {
    "name": "ipython",
    "version": 3
   },
   "file_extension": ".py",
   "mimetype": "text/x-python",
   "name": "python",
   "nbconvert_exporter": "python",
   "pygments_lexer": "ipython3",
   "version": "3.7.15"
  }
 },
 "nbformat": 4,
 "nbformat_minor": 5
}
